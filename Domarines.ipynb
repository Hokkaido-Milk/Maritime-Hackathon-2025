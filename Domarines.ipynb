{
 "cells": [
  {
   "cell_type": "markdown",
   "id": "a4759155f6fca569",
   "metadata": {},
   "source": [
    "Library Imports"
   ]
  },
  {
   "cell_type": "code",
   "execution_count": 2,
   "id": "5c2474e76471298b",
   "metadata": {
    "ExecuteTime": {
     "end_time": "2025-01-17T08:44:54.189198Z",
     "start_time": "2025-01-17T08:44:54.185976Z"
    }
   },
   "outputs": [],
   "source": [
    "import csv\n",
    "import pandas as pd\n",
    "import matplotlib.pyplot as plt\n",
    "import numpy as np\n",
    "\n",
    "from sklearn.model_selection import train_test_split\n",
    "from sklearn.feature_extraction.text import TfidfVectorizer\n",
    "from sklearn.linear_model import LogisticRegression\n",
    "from sklearn.metrics import classification_report, confusion_matrix"
   ]
  },
  {
   "cell_type": "markdown",
   "id": "bba1cef7a6609abb",
   "metadata": {},
   "source": [
    "# Deficiency Logic (Part 1)"
   ]
  },
  {
   "cell_type": "code",
   "execution_count": 3,
   "id": "e3b8f2031027d1d4",
   "metadata": {
    "ExecuteTime": {
     "end_time": "2025-01-17T08:44:55.816786Z",
     "start_time": "2025-01-17T08:44:55.813753Z"
    }
   },
   "outputs": [],
   "source": [
    "#code for reading file\n",
    "def readf(file):\n",
    "    f = open(file, encoding=\"utf-8\")\n",
    "    data = list(csv.reader(f))\n",
    "    f.close()\n",
    "    return data"
   ]
  },
  {
   "cell_type": "code",
   "execution_count": 4,
   "id": "f2f2ecf66ff1c5a3",
   "metadata": {
    "ExecuteTime": {
     "end_time": "2025-01-17T08:44:57.147890Z",
     "start_time": "2025-01-17T08:44:57.144310Z"
    }
   },
   "outputs": [],
   "source": [
    "#code for formatting deficiency_code\n",
    "def padding(defcode):\n",
    "    defcode = str(defcode)\n",
    "    if len(defcode) < 5:\n",
    "        defcode = \"0\" + defcode\n",
    "    return defcode"
   ]
  },
  {
   "cell_type": "code",
   "execution_count": 5,
   "id": "8d0cadaa7ac74b2a",
   "metadata": {
    "ExecuteTime": {
     "end_time": "2025-01-17T08:44:58.444255Z",
     "start_time": "2025-01-17T08:44:58.107622Z"
    }
   },
   "outputs": [],
   "source": [
    "scores = {}\n",
    "count = {}\n",
    "average = {}\n",
    "conversion = {\"Not a deficiency\": 0, \"Low\": 1, \"Medium\": 2, \"High\": 3}\n",
    "data = readf(\"psc_severity_train.csv\")\n",
    "# print(data[5015][4])\n",
    "for row in data[1:]:\n",
    "    defcode = padding(row[1])\n",
    "    if row[4] != '':\n",
    "        if defcode not in scores:\n",
    "            count[defcode] = 1\n",
    "            scores[defcode] = conversion[row[4]]\n",
    "\n",
    "        else:\n",
    "            count[defcode] += 1\n",
    "            scores[defcode] += conversion[row[4]]\n",
    "for defcode in scores:\n",
    "    average[defcode] = round(scores[defcode]/count[defcode],3)\n",
    "# print(scores)\n",
    "# print(count)\n",
    "# print(average)"
   ]
  },
  {
   "cell_type": "code",
   "execution_count": null,
   "id": "cd78a604da38fa25",
   "metadata": {
    "ExecuteTime": {
     "end_time": "2025-01-17T08:45:10.736399Z",
     "start_time": "2025-01-17T08:44:59.261418Z"
    }
   },
   "outputs": [],
   "source": [
    "# charting\n",
    "input_code = input(\"Enter code: \")\n",
    "\n",
    "x = []\n",
    "y = []\n",
    "\n",
    "for row in data[1:]:\n",
    "    if padding(input_code) == row[1]:\n",
    "        x.append(row[0])\n",
    "        y.append(conversion[row[4]])\n",
    "\n",
    "# Create the plot\n",
    "plt.plot(x, y, marker='o', linestyle='', color='b', label='All')\n",
    "plt.axhline(y=average[padding(input_code)], color='r', linestyle='--', linewidth=2, label='Mean')\n",
    "\n",
    "plt.xticks([])\n",
    "tick_positions = [1, 2, 3]  # Custom positions\n",
    "tick_labels = ['Low', 'Medium', 'High']  # Custom labels\n",
    "plt.yticks(tick_positions, tick_labels)\n",
    "\n",
    "# Add labels and title\n",
    "plt.xlabel('Annotations')\n",
    "plt.ylabel('Severity')\n",
    "plt.title(input_code)\n",
    "\n",
    "# Show the legend\n",
    "plt.legend()\n",
    "\n",
    "# Display the chart\n",
    "plt.show()"
   ]
  },
  {
   "cell_type": "code",
   "execution_count": 6,
   "id": "c7b7c4d399b5af03",
   "metadata": {
    "ExecuteTime": {
     "end_time": "2025-01-17T08:45:16.665335Z",
     "start_time": "2025-01-17T08:45:16.142875Z"
    }
   },
   "outputs": [
    {
     "name": "stdout",
     "output_type": "stream",
     "text": [
      "                 count      mean       std  min  25%  50%  75%  max\n",
      "deficiency_code                                                    \n",
      "1101              55.0  1.327273  0.771111  0.0  1.0  1.0  2.0  3.0\n",
      "1102              40.0  1.900000  1.081310  0.0  1.0  2.0  3.0  3.0\n",
      "1104              29.0  1.241379  0.576639  1.0  1.0  1.0  1.0  3.0\n",
      "1105              21.0  2.000000  0.774597  1.0  1.0  2.0  3.0  3.0\n",
      "1106              24.0  1.416667  0.717282  1.0  1.0  1.0  2.0  3.0\n",
      "1107              29.0  1.379310  0.621852  1.0  1.0  1.0  2.0  3.0\n",
      "1108              46.0  1.608696  0.682423  1.0  1.0  1.5  2.0  3.0\n",
      "1113              35.0  1.314286  0.582663  1.0  1.0  1.0  1.5  3.0\n",
      "1117              47.0  1.361702  0.605250  1.0  1.0  1.0  2.0  3.0\n",
      "1119              25.0  1.240000  0.435890  1.0  1.0  1.0  1.0  2.0\n",
      "   PscInspectionId  deficiency_code  annotation_id username  \\\n",
      "0          1702496             1104       42180251   mihail   \n",
      "1          1702496             1104       42532116     marc   \n",
      "2          1702496             1104       42631723     raul   \n",
      "3          1795901            10135       42190695   mihail   \n",
      "4          1795901            10135       42851742     raul   \n",
      "5          1795901            10135       43136020     marc   \n",
      "6          1667488            10135       42224469   mihail   \n",
      "7          1667488            10135       43206905     marc   \n",
      "8          1667488            10135       43217322     raul   \n",
      "9          1733202            10135       42224484   mihail   \n",
      "\n",
      "  annotation_severity                                           def_text  \\\n",
      "0              Medium  PscInspectionId: 1702496\\r\\n\\r\\nDeficiency/Fin...   \n",
      "1              Medium  PscInspectionId: 1702496\\r\\n\\r\\nDeficiency/Fin...   \n",
      "2              Medium  PscInspectionId: 1702496\\r\\n\\r\\nDeficiency/Fin...   \n",
      "3                High  PscInspectionId: 1795901\\r\\n\\r\\nDeficiency/Fin...   \n",
      "4                High  PscInspectionId: 1795901\\r\\n\\r\\nDeficiency/Fin...   \n",
      "5                High  PscInspectionId: 1795901\\r\\n\\r\\nDeficiency/Fin...   \n",
      "6                High  PscInspectionId: 1667488\\r\\n\\r\\nDeficiency/Fin...   \n",
      "7                High  PscInspectionId: 1667488\\r\\n\\r\\nDeficiency/Fin...   \n",
      "8                High  PscInspectionId: 1667488\\r\\n\\r\\nDeficiency/Fin...   \n",
      "9                High  PscInspectionId: 1733202\\r\\n\\r\\nDeficiency/Fin...   \n",
      "\n",
      "  InspectionDate  VesselId  PscAuthorityId   PortId VesselGroup        age  \n",
      "0     2023-04-24    141884               7     2028    Chemical  20.813142  \n",
      "1     2023-04-24    141884               7     2028    Chemical  20.813142  \n",
      "2     2023-04-24    141884               7     2028    Chemical  20.813142  \n",
      "3     2024-03-11    292540               9  1000736    Dry Bulk  11.523614  \n",
      "4     2024-03-11    292540               9  1000736    Dry Bulk  11.523614  \n",
      "5     2024-03-11    292540               9  1000736    Dry Bulk  11.523614  \n",
      "6     2022-12-13    303546               1     1098    Dry Bulk   7.786448  \n",
      "7     2022-12-13    303546               1     1098    Dry Bulk   7.786448  \n",
      "8     2022-12-13    303546               1     1098    Dry Bulk   7.786448  \n",
      "9     2023-08-04    286265               9      936    Dry Bulk  12.673511  \n"
     ]
    }
   ],
   "source": [
    "df = pd.read_csv('psc_severity_train.csv')\n",
    "# Maps all highs to 3, meds to 2, lows to 1 \n",
    "df['annotation_severity'] = df['annotation_severity'].map(conversion)\n",
    "# finds statistics summary for each deficiency code\n",
    "describedf = df.groupby(\"deficiency_code\")[\"annotation_severity\"].describe()\n",
    "print(describedf.head(10))\n",
    "\n",
    "consesusmetrics = df.groupby(\"deficiency_code\")[\"annotation_severity\"].agg(['mean', 'std'])\n",
    "stdev_75p = consesusmetrics['std'].quantile(0.75)\n",
    "\n",
    "#  The consensus severity logic as a function\n",
    "def consensus_sev(mean, stdev, threshold):\n",
    "    if stdev < threshold:  # Threshold for low disagreement\n",
    "        if mean <= 0 : # Not a deficiency\n",
    "            return 0 \n",
    "        elif mean <= 1:\n",
    "            return 1  # Low\n",
    "        elif mean <= 2:\n",
    "            return 2  # Medium\n",
    "        else:\n",
    "            return 3  # High\n",
    "    else:\n",
    "        return np.ceil(mean)  # Always round up for high disagreement\n",
    "\n",
    "#finding the consesus of each defcode as a function so we can use it in apply()\n",
    "def processbyrow(row):\n",
    "    return consensus_sev(row['mean'], row['std'], stdev_75p)\n",
    "\n",
    "#applying it row by row \n",
    "consesusmetrics['consensus_severity'] = consesusmetrics.apply(processbyrow, axis=1)\n",
    "\n",
    "reverse_conversion = {0: \"Not a deficiency\", 1: \"Low\", 2: \"Medium\", 3: \"High\"} \n",
    "\n",
    "# edit into the original DataFrame\n",
    "df['annotation_severity'] = df['deficiency_code'].map(consesusmetrics['consensus_severity'])\n",
    "\n",
    "df['annotation_severity'] = df['annotation_severity'].map(reverse_conversion)\n",
    "\n",
    "# Output\n",
    "print(df.head(10))"
   ]
  },
  {
   "cell_type": "markdown",
   "id": "2134d03f110364d0",
   "metadata": {},
   "source": [
    "# Model (Part 2)"
   ]
  },
  {
   "cell_type": "code",
   "execution_count": null,
   "id": "6fd0440ca3d68b1d",
   "metadata": {},
   "outputs": [],
   "source": []
  }
 ],
 "metadata": {
  "kernelspec": {
   "display_name": "base",
   "language": "python",
   "name": "python3"
  },
  "language_info": {
   "codemirror_mode": {
    "name": "ipython",
    "version": 3
   },
   "file_extension": ".py",
   "mimetype": "text/x-python",
   "name": "python",
   "nbconvert_exporter": "python",
   "pygments_lexer": "ipython3",
   "version": "3.12.7"
  }
 },
 "nbformat": 4,
 "nbformat_minor": 5
}
