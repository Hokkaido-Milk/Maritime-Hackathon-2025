{
 "cells": [
  {
   "cell_type": "markdown",
   "id": "a4759155f6fca569",
   "metadata": {},
   "source": [
    "Library Imports"
   ]
  },
  {
   "cell_type": "code",
   "execution_count": 146,
   "id": "5c2474e76471298b",
   "metadata": {
    "ExecuteTime": {
     "end_time": "2025-01-17T06:17:05.870875Z",
     "start_time": "2025-01-17T06:17:05.866742Z"
    }
   },
   "outputs": [],
   "source": [
    "import csv\n",
    "import pandas as pd\n",
    "import matplotlib.pyplot as plt"
   ]
  },
  {
   "cell_type": "markdown",
   "id": "bba1cef7a6609abb",
   "metadata": {},
   "source": [
    "Logic"
   ]
  },
  {
   "cell_type": "code",
   "execution_count": 147,
   "id": "e3b8f2031027d1d4",
   "metadata": {
    "ExecuteTime": {
     "end_time": "2025-01-17T06:17:05.891924Z",
     "start_time": "2025-01-17T06:17:05.888372Z"
    }
   },
   "outputs": [],
   "source": [
    "#code for reading file\n",
    "def readf(file):\n",
    "    f = open(file, encoding=\"utf-8\")\n",
    "    data = list(csv.reader(f))\n",
    "    f.close()\n",
    "    return data"
   ]
  },
  {
   "cell_type": "code",
   "execution_count": 148,
   "id": "f2f2ecf66ff1c5a3",
   "metadata": {
    "ExecuteTime": {
     "end_time": "2025-01-17T06:17:05.905366Z",
     "start_time": "2025-01-17T06:17:05.902421Z"
    }
   },
   "outputs": [],
   "source": [
    "#code for formatting deficiency_code\n",
    "def padding(defcode):\n",
    "    defcode = str(defcode)\n",
    "    if len(defcode) < 5:\n",
    "        defcode = \"0\" + defcode\n",
    "    return defcode"
   ]
  },
  {
   "cell_type": "code",
   "execution_count": 149,
   "id": "8d0cadaa7ac74b2a",
   "metadata": {
    "ExecuteTime": {
     "end_time": "2025-01-17T06:17:06.127148Z",
     "start_time": "2025-01-17T06:17:05.913536Z"
    }
   },
   "outputs": [
    {
     "name": "stdout",
     "output_type": "stream",
     "text": [
      "Low\n",
      "{'01104': 36, '10135': 117, '10136': 82, '10137': 25, '01201': 67, '10138': 83, '10199': 47, '11101': 259, '11102': 82, '11103': 63, '01202': 33, '11104': 173, '11105': 115, '11106': 42, '11107': 69, '11108': 118, '11110': 90, '11112': 130, '11113': 143, '01209': 44, '11116': 62, '11117': 158, '11118': 63, '11119': 86, '11122': 47, '11123': 47, '11124': 99, '11125': 58, '11126': 55, '11127': 26, '11128': 51, '11129': 94, '01213': 32, '11131': 115, '11132': 67, '11134': 83, '11135': 54, '11199': 55, '12101': 41, '12104': 18, '12106': 52, '12107': 55, '12108': 70, '01214': 58, '12199': 30, '13101': 239, '13102': 181, '13103': 191, '13104': 103, '13105': 75, '13106': 80, '13107': 23, '01215': 29, '13108': 98, '13199': 205, '14101': 40, '14102': 78, '14104': 119, '14105': 110, '14107': 85, '14108': 152, '14110': 45, '14119': 70, '14121': 48, '14122': 34, '14199': 121, '01218': 48, '14302': 34, '14304': 32, '14402': 134, '14403': 32, '14404': 67, '14499': 74, '14501': 98, '14502': 32, '14503': 79, '14599': 88, '14601': 46, '01220': 135, '14602': 65, '14603': 36, '14604': 46, '14606': 33, '14608': 72, '14610': 53, '14611': 27, '14612': 44, '01221': 25, '14613': 32, '14614': 60, '14615': 102, '14616': 82, '14617': 41, '14699': 55, '01223': 39, '14703': 22, '14799': 64, '14801': 53, '14802': 109, '14804': 58, '14806': 88, '14807': 43, '14808': 34, '01299': 81, '14810': 66, '14811': 84, '14899': 56, '15100': 36, '15101': 25, '15102': 46, '15104': 55, '15105': 63, '15106': 93, '15107': 99, '15108': 81, '01302': 22, '15109': 119, '15110': 31, '15111': 76, '01105': 42, '15113': 62, '15150': 142, '15199': 66, '16100': 23, '16101': 93, '01303': 25, '16103': 55, '16104': 49, '01305': 73, '16105': 100, '16106': 87, '16107': 25, '16199': 48, '17101': 39, '17199': 37, '18101': 13, '18103': 34, '18199': 17, '18201': 117, '18202': 44, '18203': 103, '01306': 79, '18204': 66, '18299': 84, '18301': 16, '18302': 123, '18303': 43, '18304': 35, '18305': 49, '18306': 75, '18308': 54, '18311': 41, '01307': 63, '18312': 110, '18313': 109, '18314': 125, '18315': 143, '18316': 114, '18317': 61, '18318': 67, '18319': 61, '18320': 57, '18321': 94, '01308': 149, '18322': 69, '18324': 121, '18326': 36, '18327': 110, '18328': 47, '18399': 66, '18401': 99, '18406': 27, '18407': 75, '18408': 109, '01309': 83, '18409': 134, '18410': 79, '18411': 58, '18412': 90, '18413': 88, '18414': 113, '18415': 67, '18416': 156, '18417': 73, '18418': 150, '01310': 61, '18419': 69, '18420': 82, '18421': 67, '18423': 51, '18424': 91, '18425': 115, '18426': 68, '18427': 44, '18428': 83, '18429': 56, '01311': 43, '18430': 58, '18431': 25, '18432': 62, '18499': 91, '99101': 111, '99102': 92, '99103': 54, '10114': 133, '01106': 34, '10133': 91, '07109': 187, '07114': 158, '01125': 43, '03102': 176, '01312': 23, '10109': 129, '08104': 48, '05113': 80, '07105': 299, '02108': 196, '08101': 67, '07118': 90, '09219': 81, '02105': 146, '01313': 57, '01136': 67, '07111': 135, '10111': 140, '01199': 85, '10104': 145, '01315': 181, '01101': 73, '07103': 125, '07122': 98, '03103': 168, '09203': 55, '07126': 122, '03108': 197, '01314': 71, '10127': 188, '07123': 77, '10116': 113, '04110': 108, '04118': 113, '07110': 157, '02109': 87, '10105': 111, '04108': 105, '10126': 87, '01326': 64, '07125': 152, '09298': 113, '07199': 243, '07113': 137, '01117': 64, '05199': 87, '09211': 48, '03107': 120, '01108': 74, '03105': 155, '09228': 87, '06105': 66, '04114': 195, '01337': 46, '07120': 103, '01316': 66, '05111': 91, '01318': 53, '07106': 190, '10118': 106, '07108': 129, '10120': 95, '04113': 125, '04103': 141, '06104': 96, '04117': 113, '03104': 143, '01320': 78, '01123': 57, '09232': 103, '10101': 148, '02111': 60, '06102': 74, '01322': 39, '09127': 50, '02199': 152, '10103': 125, '01331': 70, '01323': 41, '01324': 79, '01107': 40, '01327': 16, '01328': 47, '01329': 42, '01330': 67, '01332': 28, '01333': 68, '01336': 41, '01340': 39, '02101': 104, '02102': 27, '02103': 33, '02106': 106, '02107': 96, '02110': 35, '02112': 85, '01113': 46, '02113': 71, '02117': 61, '02118': 38, '02119': 47, '02120': 41, '02122': 36, '02123': 59, '02126': 39, '02128': 62, '02132': 61, '02133': 67, '02134': 57, '02135': 65, '02136': 54, '02138': 42, '03101': 58, '03106': 46, '01119': 31, '03109': 63, '03110': 112, '03111': 74, '03112': 83, '03113': 16, '03199': 92, '04101': 81, '04102': 113, '04104': 12, '04105': 52, '04106': 74, '04107': 87, '01122': 26, '04109': 103, '04115': 27, '04116': 80, '04121': 100, '05101': 56, '05102': 32, '05103': 50, '01124': 50, '05104': 48, '05105': 97, '05106': 70, '01102': 76, '05107': 47, '05109': 43, '05110': 81, '05114': 53, '05115': 64, '05116': 59, '05118': 99, '06101': 32, '06103': 58, '06106': 64, '06107': 114, '01126': 17, '06108': 45, '06109': 47, '06199': 73, '07101': 99, '07102': 76, '01131': 12, '07112': 44, '01132': 43, '07115': 149, '07116': 125, '07117': 70, '07119': 43, '07124': 46, '01134': 43, '08102': 28, '08103': 64, '08105': 70, '08106': 33, '08107': 89, '08108': 81, '08109': 48, '08110': 66, '08199': 77, '09103': 74, '09106': 38, '09108': 30, '09109': 46, '09110': 64, '09111': 49, '09112': 61, '01137': 28, '09113': 64, '09124': 42, '09128': 45, '09130': 57, '09131': 47, '09132': 32, '09198': 33, '09201': 66, '09204': 47, '01138': 50, '09205': 86, '09206': 40, '09207': 53, '09208': 41, '09209': 88, '09210': 49, '09213': 59, '09216': 30, '09218': 70, '01139': 40, '09220': 44, '09221': 37, '09222': 31, '09223': 72, '09225': 51, '09226': 36, '09227': 84, '09229': 89, '01140': 47, '09233': 37, '09236': 34, '09297': 70, '09299': 50, '10102': 72, '10106': 68, '10107': 57, '10110': 77, '10112': 131, '10113': 73, '10117': 51, '10119': 85, '10123': 55, '10124': 43, '10125': 45, '10128': 73, '10129': 61, '10132': 36, '01219': 10}\n",
      "{'01104': 29, '10135': 51, '10136': 50, '10137': 24, '01201': 47, '10138': 50, '10199': 33, '11101': 128, '11102': 44, '11103': 36, '01202': 18, '11104': 87, '11105': 69, '11106': 18, '11107': 38, '11108': 67, '11110': 51, '11112': 63, '11113': 78, '01209': 34, '11116': 38, '11117': 96, '11118': 42, '11119': 45, '11122': 41, '11123': 30, '11124': 45, '11125': 33, '11126': 30, '11127': 18, '11128': 30, '11129': 48, '01213': 24, '11131': 77, '11132': 45, '11134': 39, '11135': 39, '11199': 38, '12101': 23, '12104': 17, '12106': 27, '12107': 24, '12108': 36, '01214': 48, '12199': 18, '13101': 112, '13102': 96, '13103': 122, '13104': 48, '13105': 38, '13106': 39, '13107': 18, '01215': 24, '13108': 51, '13199': 104, '14101': 27, '14102': 48, '14104': 66, '14105': 54, '14107': 42, '14108': 73, '14110': 30, '14119': 33, '14121': 18, '14122': 18, '14199': 66, '01218': 39, '14302': 26, '14304': 17, '14402': 72, '14403': 18, '14404': 42, '14499': 42, '14501': 72, '14502': 30, '14503': 54, '14599': 51, '14601': 33, '01220': 72, '14602': 52, '14603': 18, '14604': 33, '14606': 15, '14608': 47, '14610': 33, '14611': 18, '14612': 27, '01221': 18, '14613': 18, '14614': 33, '14615': 51, '14616': 41, '14617': 18, '14699': 47, '01223': 18, '14703': 18, '14799': 39, '14801': 36, '14802': 71, '14804': 30, '14806': 54, '14807': 26, '14808': 18, '01299': 42, '14810': 33, '14811': 48, '14899': 30, '15100': 17, '15101': 12, '15102': 20, '15104': 25, '15105': 25, '15106': 39, '15107': 38, '15108': 33, '01302': 18, '15109': 48, '15110': 18, '15111': 35, '01105': 21, '15113': 30, '15150': 56, '15199': 31, '16100': 15, '16101': 51, '01303': 12, '16103': 35, '16104': 27, '01305': 51, '16105': 54, '16106': 48, '16107': 18, '16199': 33, '17101': 18, '17199': 18, '18101': 12, '18103': 27, '18199': 12, '18201': 60, '18202': 27, '18203': 39, '01306': 51, '18204': 30, '18299': 39, '18301': 12, '18302': 78, '18303': 30, '18304': 30, '18305': 30, '18306': 45, '18308': 39, '18311': 33, '01307': 36, '18312': 60, '18313': 59, '18314': 62, '18315': 65, '18316': 60, '18317': 39, '18318': 44, '18319': 33, '18320': 39, '18321': 45, '01308': 95, '18322': 36, '18324': 72, '18326': 24, '18327': 53, '18328': 32, '18399': 42, '18401': 62, '18406': 18, '18407': 56, '18408': 59, '01309': 48, '18409': 62, '18410': 35, '18411': 27, '18412': 42, '18413': 54, '18414': 56, '18415': 28, '18416': 72, '18417': 39, '18418': 84, '01310': 45, '18419': 39, '18420': 45, '18421': 35, '18423': 29, '18424': 54, '18425': 54, '18426': 33, '18427': 24, '18428': 42, '18429': 24, '01311': 32, '18430': 29, '18431': 10, '18432': 30, '18499': 49, '99101': 56, '99102': 44, '99103': 29, '10114': 84, '01106': 24, '10133': 41, '07109': 99, '07114': 72, '01125': 40, '03102': 127, '01312': 18, '10109': 79, '08104': 27, '05113': 44, '07105': 153, '02108': 105, '08101': 34, '07118': 51, '09219': 45, '02105': 71, '01313': 30, '01136': 42, '07111': 69, '10111': 56, '01199': 60, '10104': 71, '01315': 102, '01101': 55, '07103': 64, '07122': 66, '03103': 87, '09203': 48, '07126': 57, '03108': 101, '01314': 51, '10127': 75, '07123': 36, '10116': 74, '04110': 60, '04118': 59, '07110': 84, '02109': 57, '10105': 63, '04108': 67, '10126': 39, '01326': 50, '07125': 66, '09298': 50, '07199': 120, '07113': 65, '01117': 47, '05199': 54, '09211': 29, '03107': 66, '01108': 46, '03105': 77, '09228': 39, '06105': 39, '04114': 91, '01337': 42, '07120': 60, '01316': 36, '05111': 51, '01318': 30, '07106': 89, '10118': 48, '07108': 57, '10120': 51, '04113': 63, '04103': 99, '06104': 48, '04117': 54, '03104': 66, '01320': 54, '01123': 50, '09232': 54, '10101': 59, '02111': 30, '06102': 36, '01322': 27, '09127': 33, '02199': 74, '10103': 59, '01331': 47, '01323': 27, '01324': 51, '01107': 29, '01327': 12, '01328': 35, '01329': 36, '01330': 42, '01332': 27, '01333': 39, '01336': 36, '01340': 33, '02101': 45, '02102': 17, '02103': 24, '02106': 39, '02107': 47, '02110': 17, '02112': 50, '01113': 35, '02113': 28, '02117': 39, '02118': 15, '02119': 36, '02120': 34, '02122': 15, '02123': 30, '02126': 18, '02128': 33, '02132': 29, '02133': 30, '02134': 27, '02135': 30, '02136': 26, '02138': 21, '03101': 30, '03106': 29, '01119': 25, '03109': 30, '03110': 51, '03111': 33, '03112': 44, '03113': 12, '03199': 46, '04101': 43, '04102': 45, '04104': 12, '04105': 27, '04106': 40, '04107': 48, '01122': 15, '04109': 50, '04115': 18, '04116': 39, '04121': 44, '05101': 29, '05102': 18, '05103': 27, '01124': 36, '05104': 27, '05105': 51, '05106': 36, '01102': 40, '05107': 26, '05109': 30, '05110': 45, '05114': 26, '05115': 45, '05116': 39, '05118': 54, '06101': 20, '06103': 30, '06106': 30, '06107': 54, '01126': 16, '06108': 21, '06109': 27, '06199': 39, '07101': 51, '07102': 30, '01131': 12, '07112': 27, '01132': 33, '07115': 66, '07116': 66, '07117': 32, '07119': 24, '07124': 24, '01134': 27, '08102': 15, '08103': 27, '08105': 30, '08106': 16, '08107': 42, '08108': 39, '08109': 23, '08110': 30, '08199': 36, '09103': 30, '09106': 27, '09108': 26, '09109': 27, '09110': 29, '09111': 30, '09112': 36, '01137': 27, '09113': 26, '09124': 18, '09128': 23, '09130': 32, '09131': 27, '09132': 17, '09198': 16, '09201': 33, '09204': 24, '01138': 31, '09205': 39, '09206': 18, '09207': 27, '09208': 21, '09209': 45, '09210': 21, '09213': 29, '09216': 18, '09218': 33, '01139': 35, '09220': 21, '09221': 18, '09222': 18, '09223': 41, '09225': 27, '09226': 18, '09227': 35, '09229': 42, '01140': 32, '09233': 18, '09236': 18, '09297': 36, '09299': 27, '10102': 33, '10106': 35, '10107': 26, '10110': 42, '10112': 60, '10113': 45, '10117': 28, '10119': 45, '10123': 35, '10124': 26, '10125': 18, '10128': 42, '10129': 32, '10132': 15, '01219': 6}\n",
      "{'01104': 1.241, '10135': 2.294, '10136': 1.64, '10137': 1.042, '01201': 1.426, '10138': 1.66, '10199': 1.424, '11101': 2.023, '11102': 1.864, '11103': 1.75, '01202': 1.833, '11104': 1.989, '11105': 1.667, '11106': 2.333, '11107': 1.816, '11108': 1.761, '11110': 1.765, '11112': 2.063, '11113': 1.833, '01209': 1.294, '11116': 1.632, '11117': 1.646, '11118': 1.5, '11119': 1.911, '11122': 1.146, '11123': 1.567, '11124': 2.2, '11125': 1.758, '11126': 1.833, '11127': 1.444, '11128': 1.7, '11129': 1.958, '01213': 1.333, '11131': 1.494, '11132': 1.489, '11134': 2.128, '11135': 1.385, '11199': 1.447, '12101': 1.783, '12104': 1.059, '12106': 1.926, '12107': 2.292, '12108': 1.944, '01214': 1.208, '12199': 1.667, '13101': 2.134, '13102': 1.885, '13103': 1.566, '13104': 2.146, '13105': 1.974, '13106': 2.051, '13107': 1.278, '01215': 1.208, '13108': 1.922, '13199': 1.971, '14101': 1.481, '14102': 1.625, '14104': 1.803, '14105': 2.037, '14107': 2.024, '14108': 2.082, '14110': 1.5, '14119': 2.121, '14121': 2.667, '14122': 1.889, '14199': 1.833, '01218': 1.231, '14302': 1.308, '14304': 1.882, '14402': 1.861, '14403': 1.778, '14404': 1.595, '14499': 1.762, '14501': 1.361, '14502': 1.067, '14503': 1.463, '14599': 1.725, '14601': 1.394, '01220': 1.875, '14602': 1.25, '14603': 2.0, '14604': 1.394, '14606': 2.2, '14608': 1.532, '14610': 1.606, '14611': 1.5, '14612': 1.63, '01221': 1.389, '14613': 1.778, '14614': 1.818, '14615': 2.0, '14616': 2.0, '14617': 2.278, '14699': 1.17, '01223': 2.167, '14703': 1.222, '14799': 1.641, '14801': 1.472, '14802': 1.535, '14804': 1.933, '14806': 1.63, '14807': 1.654, '14808': 1.889, '01299': 1.929, '14810': 2.0, '14811': 1.75, '14899': 1.867, '15100': 2.118, '15101': 2.083, '15102': 2.3, '15104': 2.2, '15105': 2.52, '15106': 2.385, '15107': 2.605, '15108': 2.455, '01302': 1.222, '15109': 2.479, '15110': 1.722, '15111': 2.171, '01105': 2.0, '15113': 2.067, '15150': 2.536, '15199': 2.129, '16100': 1.533, '16101': 1.824, '01303': 2.083, '16103': 1.571, '16104': 1.815, '01305': 1.431, '16105': 1.852, '16106': 1.812, '16107': 1.389, '16199': 1.455, '17101': 2.167, '17199': 2.056, '18101': 1.083, '18103': 1.259, '18199': 1.417, '18201': 1.95, '18202': 1.63, '18203': 2.641, '01306': 1.549, '18204': 2.2, '18299': 2.154, '18301': 1.333, '18302': 1.577, '18303': 1.433, '18304': 1.167, '18305': 1.633, '18306': 1.667, '18308': 1.385, '18311': 1.242, '01307': 1.75, '18312': 1.833, '18313': 1.847, '18314': 2.016, '18315': 2.2, '18316': 1.9, '18317': 1.564, '18318': 1.523, '18319': 1.848, '18320': 1.462, '18321': 2.089, '01308': 1.568, '18322': 1.917, '18324': 1.681, '18326': 1.5, '18327': 2.075, '18328': 1.469, '18399': 1.571, '18401': 1.597, '18406': 1.5, '18407': 1.339, '18408': 1.847, '01309': 1.729, '18409': 2.161, '18410': 2.257, '18411': 2.148, '18412': 2.143, '18413': 1.63, '18414': 2.018, '18415': 2.393, '18416': 2.167, '18417': 1.872, '18418': 1.786, '01310': 1.356, '18419': 1.769, '18420': 1.822, '18421': 1.914, '18423': 1.759, '18424': 1.685, '18425': 2.13, '18426': 2.061, '18427': 1.833, '18428': 1.976, '18429': 2.333, '01311': 1.344, '18430': 2.0, '18431': 2.5, '18432': 2.067, '18499': 1.857, '99101': 1.982, '99102': 2.091, '99103': 1.862, '10114': 1.583, '01106': 1.417, '10133': 2.22, '07109': 1.889, '07114': 2.194, '01125': 1.075, '03102': 1.386, '01312': 1.278, '10109': 1.633, '08104': 1.778, '05113': 1.818, '07105': 1.954, '02108': 1.867, '08101': 1.971, '07118': 1.765, '09219': 1.8, '02105': 2.056, '01313': 1.9, '01136': 1.595, '07111': 1.957, '10111': 2.5, '01199': 1.417, '10104': 2.042, '01315': 1.775, '01101': 1.327, '07103': 1.953, '07122': 1.485, '03103': 1.931, '09203': 1.146, '07126': 2.14, '03108': 1.95, '01314': 1.392, '10127': 2.507, '07123': 2.139, '10116': 1.527, '04110': 1.8, '04118': 1.915, '07110': 1.869, '02109': 1.526, '10105': 1.762, '04108': 1.567, '10126': 2.231, '01326': 1.28, '07125': 2.303, '09298': 2.26, '07199': 2.025, '07113': 2.108, '01117': 1.362, '05199': 1.611, '09211': 1.655, '03107': 1.818, '01108': 1.609, '03105': 2.013, '09228': 2.231, '06105': 1.692, '04114': 2.143, '01337': 1.095, '07120': 1.717, '01316': 1.833, '05111': 1.784, '01318': 1.767, '07106': 2.135, '10118': 2.208, '07108': 2.263, '10120': 1.863, '04113': 1.984, '04103': 1.424, '06104': 2.0, '04117': 2.093, '03104': 2.167, '01320': 1.444, '01123': 1.14, '09232': 1.907, '10101': 2.508, '02111': 2.0, '06102': 2.056, '01322': 1.444, '09127': 1.515, '02199': 2.054, '10103': 2.119, '01331': 1.489, '01323': 1.519, '01324': 1.549, '01107': 1.379, '01327': 1.333, '01328': 1.343, '01329': 1.167, '01330': 1.595, '01332': 1.037, '01333': 1.744, '01336': 1.139, '01340': 1.182, '02101': 2.311, '02102': 1.588, '02103': 1.375, '02106': 2.718, '02107': 2.043, '02110': 2.059, '02112': 1.7, '01113': 1.314, '02113': 2.536, '02117': 1.564, '02118': 2.533, '02119': 1.306, '02120': 1.206, '02122': 2.4, '02123': 1.967, '02126': 2.167, '02128': 1.879, '02132': 2.103, '02133': 2.233, '02134': 2.111, '02135': 2.167, '02136': 2.077, '02138': 2.0, '03101': 1.933, '03106': 1.586, '01119': 1.24, '03109': 2.1, '03110': 2.196, '03111': 2.242, '03112': 1.886, '03113': 1.333, '03199': 2.0, '04101': 1.884, '04102': 2.511, '04104': 1.0, '04105': 1.926, '04106': 1.85, '04107': 1.812, '01122': 1.733, '04109': 2.06, '04115': 1.5, '04116': 2.051, '04121': 2.273, '05101': 1.931, '05102': 1.778, '05103': 1.852, '01124': 1.389, '05104': 1.778, '05105': 1.902, '05106': 1.944, '01102': 1.9, '05107': 1.808, '05109': 1.433, '05110': 1.8, '05114': 2.038, '05115': 1.422, '05116': 1.513, '05118': 1.833, '06101': 1.6, '06103': 1.933, '06106': 2.133, '06107': 2.111, '01126': 1.062, '06108': 2.143, '06109': 1.741, '06199': 1.872, '07101': 1.941, '07102': 2.533, '01131': 1.0, '07112': 1.63, '01132': 1.303, '07115': 2.258, '07116': 1.894, '07117': 2.188, '07119': 1.792, '07124': 1.917, '01134': 1.593, '08102': 1.867, '08103': 2.37, '08105': 2.333, '08106': 2.062, '08107': 2.119, '08108': 2.077, '08109': 2.087, '08110': 2.2, '08199': 2.139, '09103': 2.467, '09106': 1.407, '09108': 1.154, '09109': 1.704, '09110': 2.207, '09111': 1.633, '09112': 1.694, '01137': 1.037, '09113': 2.462, '09124': 2.333, '09128': 1.957, '09130': 1.781, '09131': 1.741, '09132': 1.882, '09198': 2.062, '09201': 2.0, '09204': 1.958, '01138': 1.613, '09205': 2.205, '09206': 2.222, '09207': 1.963, '09208': 1.952, '09209': 1.956, '09210': 2.333, '09213': 2.034, '09216': 1.667, '09218': 2.121, '01139': 1.143, '09220': 2.095, '09221': 2.056, '09222': 1.722, '09223': 1.756, '09225': 1.889, '09226': 2.0, '09227': 2.4, '09229': 2.119, '01140': 1.469, '09233': 2.056, '09236': 1.889, '09297': 1.944, '09299': 1.852, '10102': 2.182, '10106': 1.943, '10107': 2.192, '10110': 1.833, '10112': 2.183, '10113': 1.622, '10117': 1.821, '10119': 1.889, '10123': 1.571, '10124': 1.654, '10125': 2.5, '10128': 1.738, '10129': 1.906, '10132': 2.4, '01219': 1.667}\n"
     ]
    }
   ],
   "source": [
    "scores = {}\n",
    "count = {}\n",
    "average = {}\n",
    "conversion = {\"Not a deficiency\": 0, \"Low\": 1, \"Medium\": 2, \"High\": 3}\n",
    "data = readf(\"psc_severity_train.csv\")\n",
    "print(data[5015][4])\n",
    "for row in data[1:]:\n",
    "    defcode = padding(row[1])\n",
    "    if row[4] != '':\n",
    "        if defcode not in scores:\n",
    "            count[defcode] = 1\n",
    "            scores[defcode] = conversion[row[4]]\n",
    "\n",
    "        else:\n",
    "            count[defcode] += 1\n",
    "            scores[defcode] += conversion[row[4]]\n",
    "for defcode in scores:\n",
    "    average[defcode] = round(scores[defcode]/count[defcode],3)\n",
    "print(scores)\n",
    "print(count)\n",
    "print(average)"
   ]
  },
  {
   "cell_type": "markdown",
   "id": "991fe56dfc49d055",
   "metadata": {},
   "source": [
    "Charting"
   ]
  },
  {
   "cell_type": "code",
   "execution_count": 150,
   "id": "cd78a604da38fa25",
   "metadata": {
    "ExecuteTime": {
     "end_time": "2025-01-17T06:17:08.749173Z",
     "start_time": "2025-01-17T06:17:06.133766Z"
    }
   },
   "outputs": [
    {
     "data": {
      "image/png": "[encoded data removed]",
      "text/plain": [
       "<Figure size 640x480 with 1 Axes>"
      ]
     },
     "metadata": {},
     "output_type": "display_data"
    }
   ],
   "source": [
    "# charting\n",
    "input_code = input(\"Enter code: \")\n",
    "\n",
    "x = []\n",
    "y = []\n",
    "\n",
    "for row in data[1:]:\n",
    "    if padding(input_code) == row[1]:\n",
    "        x.append(row[0])\n",
    "        y.append(conversion[row[4]])\n",
    "\n",
    "# Create the plot\n",
    "plt.plot(x, y, marker='o', linestyle='', color='b', label='All')\n",
    "plt.axhline(y=average[padding(input_code)], color='r', linestyle='--', linewidth=2, label='Mean')\n",
    "\n",
    "plt.xticks([])\n",
    "tick_positions = [1, 2, 3]  # Custom positions\n",
    "tick_labels = ['Low', 'Medium', 'High']  # Custom labels\n",
    "plt.yticks(tick_positions, tick_labels)\n",
    "\n",
    "# Add labels and title\n",
    "plt.xlabel('Annotations')\n",
    "plt.ylabel('Severity')\n",
    "plt.title(input_code)\n",
    "\n",
    "# Show the legend\n",
    "plt.legend()\n",
    "\n",
    "# Display the chart\n",
    "plt.show()"
   ]
  },
  {
   "cell_type": "code",
   "execution_count": null,
   "id": "c7b7c4d399b5af03",
   "metadata": {
    "ExecuteTime": {
     "end_time": "2025-01-17T06:17:08.764745Z",
     "start_time": "2025-01-17T06:17:08.763017Z"
    }
   },
   "outputs": [],
   "source": [
    "\n",
    "df = pd.read_csv('psc_severity_train.csv')\n",
    "# Maps all highs to 3, meds to 2, lows to 1 \n",
    "df['annotation_severity'] = df['annotation_severity'].map(conversion)\n",
    "# Groups all deficiency codes into one place and finds mean severity rate for each deficiency code\n",
    "meandf = df.groupby(\"deficiency_code\")[\"annotation_severity\"].mean()\n",
    "# finds median severity rate for each deficiency code\n",
    "mediandf = df.groupby(\"deficiency_code\")[\"annotation_severity\"].median()\n",
    "# finds statistics summary for each deficiency code\n",
    "describedf = df.groupby(\"deficiency_code\")[\"annotation_severity\"].describe()\n",
    "print(describedf)"
   ]
  }
 ],
 "metadata": {
  "kernelspec": {
   "display_name": "base",
   "language": "python",
   "name": "python3"
  },
  "language_info": {
   "codemirror_mode": {
    "name": "ipython",
    "version": 3
   },
   "file_extension": ".py",
   "mimetype": "text/x-python",
   "name": "python",
   "nbconvert_exporter": "python",
   "pygments_lexer": "ipython3",
   "version": "3.12.7"
  }
 },
 "nbformat": 4,
 "nbformat_minor": 5
}
