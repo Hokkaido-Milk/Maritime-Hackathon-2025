{
 "cells": [
  {
   "cell_type": "markdown",
   "id": "b6f18c38feb126b0",
   "metadata": {},
   "source": [
    "Library Imports"
   ]
  },
  {
   "cell_type": "code",
   "execution_count": 1,
   "id": "7f956cf6d05502d2",
   "metadata": {
    "ExecuteTime": {
     "end_time": "2025-01-17T02:55:45.126522Z",
     "start_time": "2025-01-17T02:55:44.655930Z"
    }
   },
   "outputs": [],
   "source": [
    "import csv\n",
    "import pandas as pd"
   ]
  },
  {
   "cell_type": "markdown",
   "id": "95c9b39eb23824ae",
   "metadata": {},
   "source": []
  },
  {
   "cell_type": "markdown",
   "id": "7748ace242687c61",
   "metadata": {},
   "source": []
  },
  {
   "cell_type": "code",
   "execution_count": null,
   "id": "7ac624906c91fa7e",
   "metadata": {},
   "outputs": [
    {
     "name": "stdout",
     "output_type": "stream",
     "text": [
      "['1715911', '14302', '42369398', 'guru', '', 'PscInspectionId: 1715911\\n\\nDeficiency/Finding: Engine room sea chest valve open/close marking not in contrasting colour.\\n\\nDescription Overview: UNKNOWN\\n\\nImmediate Causes: All sea chest valves are periodically checked, maintained and records are maintained. During the inspection , The sea chest valve open/close marking is not marked with a contrasting color, making it difficult to confirm their identification during visual inspections, resulting in the observation. The crew members was aware of the inspection requirements for the onboard sea chest valves, and carried out monthly inspections.\\n\\nRoot Cause Analysis: Incorrect Marking\\n\\nCorrective Action: 1. All onboard valves with open/closing markings are inspected and marked with contrasting colors for easy identification. 2. Briefed on board by chief engineer and emphasized on the importance of marking.\\n\\nPreventive Action: Vessel superintendent discussed the observation with Master and Chief Engineer to prevent repeat of similar observation. The observation has been included into company Database from where repeat and/or significant observations are selected for inclusion in periodic circulation of repeat observation.\\n\\nDeficiency Code: 14302\\n\\nDetainable Deficiency: No', '2023-06-01', '285707', '9', '292', 'Liquefied Gas', '13.831622176591376']\n"
     ]
    }
   ],
   "source": [
    "#code for reading file\n",
    "def readf(file):\n",
    "    f = open(file, \"r\")\n",
    "    data = list(csv.reader(f))\n",
    "    f.close()\n",
    "    return data\n",
    "\n"
   ]
  },
  {
   "cell_type": "code",
   "execution_count": null,
   "id": "39836b3d",
   "metadata": {},
   "outputs": [],
   "source": [
    "\n",
    "scores = {}\n",
    "count = {}\n",
    "convertion = {\"Low\": 1, }\n",
    "data = readf(\"psc_severity_train.csv\")\n",
    "print(data[5014])\n",
    "for row in data:\n",
    "    if row[4] != '':\n",
    "        if row[0] not in scores:\n",
    "            count[row[0]] = 1\n",
    "            \n",
    "        else:\n",
    "            count[row[0]] += 1"
   ]
  }
 ],
 "metadata": {
  "kernelspec": {
   "display_name": "base",
   "language": "python",
   "name": "python3"
  },
  "language_info": {
   "codemirror_mode": {
    "name": "ipython",
    "version": 3
   },
   "file_extension": ".py",
   "mimetype": "text/x-python",
   "name": "python",
   "nbconvert_exporter": "python",
   "pygments_lexer": "ipython3",
   "version": "3.12.7"
  }
 },
 "nbformat": 4,
 "nbformat_minor": 5
}
