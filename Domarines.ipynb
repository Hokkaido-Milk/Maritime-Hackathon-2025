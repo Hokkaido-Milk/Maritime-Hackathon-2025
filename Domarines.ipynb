{
 "cells": [
  {
   "cell_type": "markdown",
   "id": "a4759155f6fca569",
   "metadata": {},
   "source": [
    "Library Imports"
   ]
  },
  {
   "cell_type": "code",
   "id": "5c2474e76471298b",
   "metadata": {
    "ExecuteTime": {
     "end_time": "2025-01-17T08:44:54.189198Z",
     "start_time": "2025-01-17T08:44:54.185976Z"
    }
   },
   "source": [
    "import csv\n",
    "import pandas as pd\n",
    "import matplotlib.pyplot as plt"
   ],
   "outputs": [],
   "execution_count": 173
  },
  {
   "cell_type": "markdown",
   "id": "bba1cef7a6609abb",
   "metadata": {},
   "source": "# Deficiency Logic (Part 1)"
  },
  {
   "cell_type": "code",
   "id": "e3b8f2031027d1d4",
   "metadata": {
    "ExecuteTime": {
     "end_time": "2025-01-17T08:44:55.816786Z",
     "start_time": "2025-01-17T08:44:55.813753Z"
    }
   },
   "source": [
    "#code for reading file\n",
    "def readf(file):\n",
    "    f = open(file, encoding=\"utf-8\")\n",
    "    data = list(csv.reader(f))\n",
    "    f.close()\n",
    "    return data"
   ],
   "outputs": [],
   "execution_count": 174
  },
  {
   "cell_type": "code",
   "id": "f2f2ecf66ff1c5a3",
   "metadata": {
    "ExecuteTime": {
     "end_time": "2025-01-17T08:44:57.147890Z",
     "start_time": "2025-01-17T08:44:57.144310Z"
    }
   },
   "source": [
    "#code for formatting deficiency_code\n",
    "def padding(defcode):\n",
    "    defcode = str(defcode)\n",
    "    if len(defcode) < 5:\n",
    "        defcode = \"0\" + defcode\n",
    "    return defcode"
   ],
   "outputs": [],
   "execution_count": 175
  },
  {
   "cell_type": "code",
   "id": "8d0cadaa7ac74b2a",
   "metadata": {
    "ExecuteTime": {
     "end_time": "2025-01-17T08:44:58.444255Z",
     "start_time": "2025-01-17T08:44:58.107622Z"
    }
   },
   "source": [
    "scores = {}\n",
    "count = {}\n",
    "average = {}\n",
    "conversion = {\"Not a deficiency\": 0, \"Low\": 1, \"Medium\": 2, \"High\": 3}\n",
    "data = readf(\"psc_severity_train.csv\")\n",
    "print(data[5015][4])\n",
    "for row in data[1:]:\n",
    "    defcode = padding(row[1])\n",
    "    if row[4] != '':\n",
    "        if defcode not in scores:\n",
    "            count[defcode] = 1\n",
    "            scores[defcode] = conversion[row[4]]\n",
    "\n",
    "        else:\n",
    "            count[defcode] += 1\n",
    "            scores[defcode] += conversion[row[4]]\n",
    "for defcode in scores:\n",
    "    average[defcode] = round(scores[defcode]/count[defcode],3)\n",
    "# print(scores)\n",
    "# print(count)\n",
    "# print(average)"
   ],
   "outputs": [
    {
     "name": "stdout",
     "output_type": "stream",
     "text": [
      "Low\n"
     ]
    }
   ],
   "execution_count": 176
  },
  {
   "cell_type": "code",
   "id": "cd78a604da38fa25",
   "metadata": {
    "ExecuteTime": {
     "end_time": "2025-01-17T08:45:10.736399Z",
     "start_time": "2025-01-17T08:44:59.261418Z"
    }
   },
   "source": [
    "# charting\n",
    "input_code = input(\"Enter code: \")\n",
    "\n",
    "x = []\n",
    "y = []\n",
    "\n",
    "for row in data[1:]:\n",
    "    if padding(input_code) == row[1]:\n",
    "        x.append(row[0])\n",
    "        y.append(conversion[row[4]])\n",
    "\n",
    "# Create the plot\n",
    "plt.plot(x, y, marker='o', linestyle='', color='b', label='All')\n",
    "plt.axhline(y=average[padding(input_code)], color='r', linestyle='--', linewidth=2, label='Mean')\n",
    "\n",
    "plt.xticks([])\n",
    "tick_positions = [1, 2, 3]  # Custom positions\n",
    "tick_labels = ['Low', 'Medium', 'High']  # Custom labels\n",
    "plt.yticks(tick_positions, tick_labels)\n",
    "\n",
    "# Add labels and title\n",
    "plt.xlabel('Annotations')\n",
    "plt.ylabel('Severity')\n",
    "plt.title(input_code)\n",
    "\n",
    "# Show the legend\n",
    "plt.legend()\n",
    "\n",
    "# Display the chart\n",
    "plt.show()"
   ],
   "outputs": [
    {
     "data": {
      "text/plain": [
       "<Figure size 640x480 with 1 Axes>"
      ],
      "image/png": "[encoded data removed]"
     },
     "metadata": {},
     "output_type": "display_data"
    }
   ],
   "execution_count": 177
  },
  {
   "cell_type": "code",
   "id": "c7b7c4d399b5af03",
   "metadata": {
    "ExecuteTime": {
     "end_time": "2025-01-17T08:45:16.665335Z",
     "start_time": "2025-01-17T08:45:16.142875Z"
    }
   },
   "source": [
    "df = pd.read_csv('psc_severity_train.csv')\n",
    "# Maps all highs to 3, meds to 2, lows to 1 \n",
    "df['annotation_severity'] = df['annotation_severity'].map(conversion)\n",
    "# Groups all deficiency codes into one place and finds mean severity rate for each deficiency code\n",
    "meandf = df.groupby(\"deficiency_code\")[\"annotation_severity\"].mean()\n",
    "# finds median severity rate for each deficiency code\n",
    "mediandf = df.groupby(\"deficiency_code\")[\"annotation_severity\"].median()\n",
    "# finds statistics summary for each deficiency code\n",
    "describedf = df.groupby(\"deficiency_code\")[\"annotation_severity\"].describe()\n",
    "print(describedf)"
   ],
   "outputs": [
    {
     "name": "stdout",
     "output_type": "stream",
     "text": [
      "                 count      mean       std  min   25%  50%  75%  max\n",
      "deficiency_code                                                     \n",
      "1101              55.0  1.327273  0.771111  0.0  1.00  1.0  2.0  3.0\n",
      "1102              40.0  1.900000  1.081310  0.0  1.00  2.0  3.0  3.0\n",
      "1104              29.0  1.241379  0.576639  1.0  1.00  1.0  1.0  3.0\n",
      "1105              21.0  2.000000  0.774597  1.0  1.00  2.0  3.0  3.0\n",
      "1106              24.0  1.416667  0.717282  1.0  1.00  1.0  2.0  3.0\n",
      "...                ...       ...       ...  ...   ...  ...  ...  ...\n",
      "18432             30.0  2.066667  0.868345  0.0  1.25  2.0  3.0  3.0\n",
      "18499             49.0  1.857143  0.735980  1.0  1.00  2.0  2.0  3.0\n",
      "99101             56.0  1.982143  0.841883  0.0  1.00  2.0  3.0  3.0\n",
      "99102             44.0  2.090909  0.741406  1.0  2.00  2.0  3.0  3.0\n",
      "99103             29.0  1.862069  0.789400  1.0  1.00  2.0  2.0  3.0\n",
      "\n",
      "[438 rows x 8 columns]\n"
     ]
    }
   ],
   "execution_count": 178
  }
 ],
 "metadata": {
  "kernelspec": {
   "display_name": "base",
   "language": "python",
   "name": "python3"
  },
  "language_info": {
   "codemirror_mode": {
    "name": "ipython",
    "version": 3
   },
   "file_extension": ".py",
   "mimetype": "text/x-python",
   "name": "python",
   "nbconvert_exporter": "python",
   "pygments_lexer": "ipython3",
   "version": "3.12.7"
  }
 },
 "nbformat": 4,
 "nbformat_minor": 5
}
