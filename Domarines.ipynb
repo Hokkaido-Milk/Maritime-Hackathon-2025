{
 "cells": [
  {
   "metadata": {},
   "cell_type": "markdown",
   "source": "Library Imports",
   "id": "b6f18c38feb126b0"
  },
  {
   "metadata": {
    "ExecuteTime": {
     "end_time": "2025-01-17T02:55:45.126522Z",
     "start_time": "2025-01-17T02:55:44.655930Z"
    }
   },
   "cell_type": "code",
   "source": [
    "import csv\n",
    "import pandas as pd"
   ],
   "id": "7f956cf6d05502d2",
   "outputs": [],
   "execution_count": 1
  },
  {
   "metadata": {},
   "cell_type": "markdown",
   "source": "",
   "id": "95c9b39eb23824ae"
  },
  {
   "metadata": {},
   "cell_type": "markdown",
   "source": "",
   "id": "7748ace242687c61"
  },
  {
   "metadata": {},
   "cell_type": "code",
   "outputs": [],
   "execution_count": null,
   "source": "",
   "id": "7ac624906c91fa7e"
  }
 ],
 "metadata": {
  "kernelspec": {
   "display_name": "Python 3",
   "language": "python",
   "name": "python3"
  },
  "language_info": {
   "codemirror_mode": {
    "name": "ipython",
    "version": 2
   },
   "file_extension": ".py",
   "mimetype": "text/x-python",
   "name": "python",
   "nbconvert_exporter": "python",
   "pygments_lexer": "ipython2",
   "version": "2.7.6"
  }
 },
 "nbformat": 4,
 "nbformat_minor": 5
}
