{
 "cells": [
  {
   "cell_type": "markdown",
   "id": "a4759155f6fca569",
   "metadata": {},
   "source": [
    "Library Imports"
   ]
  },
  {
   "cell_type": "code",
   "id": "5c2474e76471298b",
   "metadata": {
    "ExecuteTime": {
     "end_time": "2025-01-17T08:37:46.236984Z",
     "start_time": "2025-01-17T08:37:46.233850Z"
    }
   },
   "source": [
    "import csv\n",
    "import pandas as pd\n",
    "import matplotlib.pyplot as plt"
   ],
   "outputs": [],
   "execution_count": 168
  },
  {
   "cell_type": "markdown",
   "id": "bba1cef7a6609abb",
   "metadata": {},
   "source": "# Deficiency Logic (Part 1)"
  },
  {
   "cell_type": "code",
   "id": "e3b8f2031027d1d4",
   "metadata": {
    "ExecuteTime": {
     "end_time": "2025-01-17T08:37:47.362766Z",
     "start_time": "2025-01-17T08:37:47.360057Z"
    }
   },
   "source": [
    "#code for reading file\n",
    "def readf(file):\n",
    "    f = open(file, encoding=\"utf-8\")\n",
    "    data = list(csv.reader(f))\n",
    "    f.close()\n",
    "    return data"
   ],
   "outputs": [],
   "execution_count": 169
  },
  {
   "cell_type": "code",
   "id": "f2f2ecf66ff1c5a3",
   "metadata": {
    "ExecuteTime": {
     "end_time": "2025-01-17T08:37:47.869841Z",
     "start_time": "2025-01-17T08:37:47.866501Z"
    }
   },
   "source": [
    "#code for formatting deficiency_code\n",
    "def padding(defcode):\n",
    "    defcode = str(defcode)\n",
    "    if len(defcode) < 5:\n",
    "        defcode = \"0\" + defcode\n",
    "    return defcode"
   ],
   "outputs": [],
   "execution_count": 170
  },
  {
   "cell_type": "code",
   "id": "8d0cadaa7ac74b2a",
   "metadata": {
    "ExecuteTime": {
     "end_time": "2025-01-17T08:37:51.732279Z",
     "start_time": "2025-01-17T08:37:51.518041Z"
    }
   },
   "source": [
    "scores = {}\n",
    "count = {}\n",
    "average = {}\n",
    "conversion = {\"Not a deficiency\": 0, \"Low\": 1, \"Medium\": 2, \"High\": 3}\n",
    "data = readf(\"psc_severity_train.csv\")\n",
    "print(data[5015][4])\n",
    "for row in data[1:]:\n",
    "    defcode = padding(row[1])\n",
    "    if row[4] != '':\n",
    "        if defcode not in scores:\n",
    "            count[defcode] = 1\n",
    "            scores[defcode] = conversion[row[4]]\n",
    "\n",
    "        else:\n",
    "            count[defcode] += 1\n",
    "            scores[defcode] += conversion[row[4]]\n",
    "for defcode in scores:\n",
    "    average[defcode] = round(scores[defcode]/count[defcode],3)\n",
    "# print(scores)\n",
    "# print(count)\n",
    "# print(average)"
   ],
   "outputs": [
    {
     "name": "stdout",
     "output_type": "stream",
     "text": [
      "Low\n"
     ]
    }
   ],
   "execution_count": 171
  },
  {
   "cell_type": "code",
   "id": "cd78a604da38fa25",
   "metadata": {
    "ExecuteTime": {
     "end_time": "2025-01-17T08:37:28.360308Z",
     "start_time": "2025-01-17T08:37:16.674095Z"
    }
   },
   "source": [
    "# charting\n",
    "input_code = input(\"Enter code: \")\n",
    "\n",
    "x = []\n",
    "y = []\n",
    "\n",
    "for row in data[1:]:\n",
    "    if padding(input_code) == row[1]:\n",
    "        x.append(row[0])\n",
    "        y.append(conversion[row[4]])\n",
    "\n",
    "# Create the plot\n",
    "plt.plot(x, y, marker='o', linestyle='', color='b', label='All')\n",
    "plt.axhline(y=average[padding(input_code)], color='r', linestyle='--', linewidth=2, label='Mean')\n",
    "\n",
    "plt.xticks([])\n",
    "tick_positions = [1, 2, 3]  # Custom positions\n",
    "tick_labels = ['Low', 'Medium', 'High']  # Custom labels\n",
    "plt.yticks(tick_positions, tick_labels)\n",
    "\n",
    "# Add labels and title\n",
    "plt.xlabel('Annotations')\n",
    "plt.ylabel('Severity')\n",
    "plt.title(input_code)\n",
    "\n",
    "# Show the legend\n",
    "plt.legend()\n",
    "\n",
    "# Display the chart\n",
    "plt.show()"
   ],
   "outputs": [
    {
     "ename": "KeyboardInterrupt",
     "evalue": "Interrupted by user",
     "output_type": "error",
     "traceback": [
      "\u001B[1;31m---------------------------------------------------------------------------\u001B[0m",
      "\u001B[1;31mKeyboardInterrupt\u001B[0m                         Traceback (most recent call last)",
      "Cell \u001B[1;32mIn[166], line 2\u001B[0m\n\u001B[0;32m      1\u001B[0m \u001B[38;5;66;03m# charting\u001B[39;00m\n\u001B[1;32m----> 2\u001B[0m input_code \u001B[38;5;241m=\u001B[39m \u001B[38;5;28;43minput\u001B[39;49m\u001B[43m(\u001B[49m\u001B[38;5;124;43m\"\u001B[39;49m\u001B[38;5;124;43mEnter code: \u001B[39;49m\u001B[38;5;124;43m\"\u001B[39;49m\u001B[43m)\u001B[49m\n\u001B[0;32m      4\u001B[0m x \u001B[38;5;241m=\u001B[39m []\n\u001B[0;32m      5\u001B[0m y \u001B[38;5;241m=\u001B[39m []\n",
      "File \u001B[1;32m~\\PycharmProjects\\Maritime-Hackathon-2025\\.venv\\Lib\\site-packages\\ipykernel\\kernelbase.py:1282\u001B[0m, in \u001B[0;36mKernel.raw_input\u001B[1;34m(self, prompt)\u001B[0m\n\u001B[0;32m   1280\u001B[0m     msg \u001B[38;5;241m=\u001B[39m \u001B[38;5;124m\"\u001B[39m\u001B[38;5;124mraw_input was called, but this frontend does not support input requests.\u001B[39m\u001B[38;5;124m\"\u001B[39m\n\u001B[0;32m   1281\u001B[0m     \u001B[38;5;28;01mraise\u001B[39;00m StdinNotImplementedError(msg)\n\u001B[1;32m-> 1282\u001B[0m \u001B[38;5;28;01mreturn\u001B[39;00m \u001B[38;5;28;43mself\u001B[39;49m\u001B[38;5;241;43m.\u001B[39;49m\u001B[43m_input_request\u001B[49m\u001B[43m(\u001B[49m\n\u001B[0;32m   1283\u001B[0m \u001B[43m    \u001B[49m\u001B[38;5;28;43mstr\u001B[39;49m\u001B[43m(\u001B[49m\u001B[43mprompt\u001B[49m\u001B[43m)\u001B[49m\u001B[43m,\u001B[49m\n\u001B[0;32m   1284\u001B[0m \u001B[43m    \u001B[49m\u001B[38;5;28;43mself\u001B[39;49m\u001B[38;5;241;43m.\u001B[39;49m\u001B[43m_parent_ident\u001B[49m\u001B[43m[\u001B[49m\u001B[38;5;124;43m\"\u001B[39;49m\u001B[38;5;124;43mshell\u001B[39;49m\u001B[38;5;124;43m\"\u001B[39;49m\u001B[43m]\u001B[49m\u001B[43m,\u001B[49m\n\u001B[0;32m   1285\u001B[0m \u001B[43m    \u001B[49m\u001B[38;5;28;43mself\u001B[39;49m\u001B[38;5;241;43m.\u001B[39;49m\u001B[43mget_parent\u001B[49m\u001B[43m(\u001B[49m\u001B[38;5;124;43m\"\u001B[39;49m\u001B[38;5;124;43mshell\u001B[39;49m\u001B[38;5;124;43m\"\u001B[39;49m\u001B[43m)\u001B[49m\u001B[43m,\u001B[49m\n\u001B[0;32m   1286\u001B[0m \u001B[43m    \u001B[49m\u001B[43mpassword\u001B[49m\u001B[38;5;241;43m=\u001B[39;49m\u001B[38;5;28;43;01mFalse\u001B[39;49;00m\u001B[43m,\u001B[49m\n\u001B[0;32m   1287\u001B[0m \u001B[43m\u001B[49m\u001B[43m)\u001B[49m\n",
      "File \u001B[1;32m~\\PycharmProjects\\Maritime-Hackathon-2025\\.venv\\Lib\\site-packages\\ipykernel\\kernelbase.py:1325\u001B[0m, in \u001B[0;36mKernel._input_request\u001B[1;34m(self, prompt, ident, parent, password)\u001B[0m\n\u001B[0;32m   1322\u001B[0m \u001B[38;5;28;01mexcept\u001B[39;00m \u001B[38;5;167;01mKeyboardInterrupt\u001B[39;00m:\n\u001B[0;32m   1323\u001B[0m     \u001B[38;5;66;03m# re-raise KeyboardInterrupt, to truncate traceback\u001B[39;00m\n\u001B[0;32m   1324\u001B[0m     msg \u001B[38;5;241m=\u001B[39m \u001B[38;5;124m\"\u001B[39m\u001B[38;5;124mInterrupted by user\u001B[39m\u001B[38;5;124m\"\u001B[39m\n\u001B[1;32m-> 1325\u001B[0m     \u001B[38;5;28;01mraise\u001B[39;00m \u001B[38;5;167;01mKeyboardInterrupt\u001B[39;00m(msg) \u001B[38;5;28;01mfrom\u001B[39;00m\u001B[38;5;250m \u001B[39m\u001B[38;5;28;01mNone\u001B[39;00m\n\u001B[0;32m   1326\u001B[0m \u001B[38;5;28;01mexcept\u001B[39;00m \u001B[38;5;167;01mException\u001B[39;00m:\n\u001B[0;32m   1327\u001B[0m     \u001B[38;5;28mself\u001B[39m\u001B[38;5;241m.\u001B[39mlog\u001B[38;5;241m.\u001B[39mwarning(\u001B[38;5;124m\"\u001B[39m\u001B[38;5;124mInvalid Message:\u001B[39m\u001B[38;5;124m\"\u001B[39m, exc_info\u001B[38;5;241m=\u001B[39m\u001B[38;5;28;01mTrue\u001B[39;00m)\n",
      "\u001B[1;31mKeyboardInterrupt\u001B[0m: Interrupted by user"
     ]
    }
   ],
   "execution_count": 166
  },
  {
   "cell_type": "code",
   "id": "c7b7c4d399b5af03",
   "metadata": {
    "ExecuteTime": {
     "end_time": "2025-01-17T08:37:55.930165Z",
     "start_time": "2025-01-17T08:37:55.499827Z"
    }
   },
   "source": [
    "df = pd.read_csv('psc_severity_train.csv')\n",
    "# Maps all highs to 3, meds to 2, lows to 1 \n",
    "df['annotation_severity'] = df['annotation_severity'].map(conversion)\n",
    "# Groups all deficiency codes into one place and finds mean severity rate for each deficiency code\n",
    "meandf = df.groupby(\"deficiency_code\")[\"annotation_severity\"].mean()\n",
    "# finds median severity rate for each deficiency code\n",
    "mediandf = df.groupby(\"deficiency_code\")[\"annotation_severity\"].median()\n",
    "# finds statistics summary for each deficiency code\n",
    "describedf = df.groupby(\"deficiency_code\")[\"annotation_severity\"].describe()\n",
    "print(describedf)"
   ],
   "outputs": [
    {
     "name": "stdout",
     "output_type": "stream",
     "text": [
      "                 count      mean       std  min   25%  50%  75%  max\n",
      "deficiency_code                                                     \n",
      "1101              55.0  1.327273  0.771111  0.0  1.00  1.0  2.0  3.0\n",
      "1102              40.0  1.900000  1.081310  0.0  1.00  2.0  3.0  3.0\n",
      "1104              29.0  1.241379  0.576639  1.0  1.00  1.0  1.0  3.0\n",
      "1105              21.0  2.000000  0.774597  1.0  1.00  2.0  3.0  3.0\n",
      "1106              24.0  1.416667  0.717282  1.0  1.00  1.0  2.0  3.0\n",
      "...                ...       ...       ...  ...   ...  ...  ...  ...\n",
      "18432             30.0  2.066667  0.868345  0.0  1.25  2.0  3.0  3.0\n",
      "18499             49.0  1.857143  0.735980  1.0  1.00  2.0  2.0  3.0\n",
      "99101             56.0  1.982143  0.841883  0.0  1.00  2.0  3.0  3.0\n",
      "99102             44.0  2.090909  0.741406  1.0  2.00  2.0  3.0  3.0\n",
      "99103             29.0  1.862069  0.789400  1.0  1.00  2.0  2.0  3.0\n",
      "\n",
      "[438 rows x 8 columns]\n"
     ]
    }
   ],
   "execution_count": 172
  }
 ],
 "metadata": {
  "kernelspec": {
   "display_name": "base",
   "language": "python",
   "name": "python3"
  },
  "language_info": {
   "codemirror_mode": {
    "name": "ipython",
    "version": 3
   },
   "file_extension": ".py",
   "mimetype": "text/x-python",
   "name": "python",
   "nbconvert_exporter": "python",
   "pygments_lexer": "ipython3",
   "version": "3.12.7"
  }
 },
 "nbformat": 4,
 "nbformat_minor": 5
}
